{
 "cells": [
  {
   "cell_type": "code",
   "execution_count": 1,
   "id": "ae09df7f",
   "metadata": {},
   "outputs": [],
   "source": [
    "import os,sys,inspect\n",
    "currentdir = os.path.dirname(os.path.abspath(inspect.getfile(inspect.currentframe())))\n",
    "parentdir = os.path.dirname(currentdir)\n",
    "sys.path.insert(0,parentdir) \n",
    "import keras\n",
    "from keras.preprocessing import image\n",
    "from keras.applications.imagenet_utils import decode_predictions\n",
    "from skimage.io import imread\n",
    "import matplotlib.pyplot as plt\n",
    "%matplotlib inline\n",
    "import numpy as np\n",
    "from transferlearning import *\n",
    "import cv2\n",
    "import lime\n",
    "from lime import lime_image\n",
    "from skimage.segmentation import mark_boundaries\n",
    "from PIL import Image\n"
   ]
  },
  {
   "cell_type": "code",
   "execution_count": null,
   "id": "4cfda07a",
   "metadata": {},
   "outputs": [],
   "source": [
    "import tensorflow as tf\n",
    "model_path = \"../model/face_model\"\n",
    "model = tf.keras.models.load_model(model_path)"
   ]
  },
  {
   "cell_type": "code",
   "execution_count": 2,
   "id": "b0573af6",
   "metadata": {},
   "outputs": [],
   "source": [
    "def get_LIME_explanation(img, num_label, model, positive=False):\n",
    "    \n",
    "    img_name = img.split('/')[-1][:-4]\n",
    "    savedir = \"../lime_explanations/\"\n",
    "    savename_img = savedir+img_name+'_explained.jpg'\n",
    "    savename_heatmap = savedir+img_name+'_heatmap.jpg'\n",
    "    \n",
    "    img_ = cv2.imread(img)\n",
    "    img_ = cv2.cvtColor(img_, cv2.COLOR_BGR2RGB)\n",
    "    img_ = img_ / 255\n",
    "    img_ = np.expand_dims(img_, axis=0)\n",
    "    \n",
    "    explainer = lime_image.LimeImageExplainer()\n",
    "    explanation = explainer.explain_instance(img_[0].astype('double'), model.predict, top_labels=int(num_label), hide_color=0, num_samples=100)\n",
    "\n",
    "    temp, mask = explanation.get_image_and_mask(explanation.top_labels[0], positive_only=positive, num_features=int(num_label), hide_rest=False)\n",
    "    explain_img = mark_boundaries(temp / 2 + 0.5, mask)\n",
    "    ind =  explanation.top_labels[0]\n",
    "\n",
    "    dict_heatmap = dict(explanation.local_exp[ind])\n",
    "    heatmap = np.vectorize(dict_heatmap.get)(explanation.segments) \n",
    "    \n",
    "    im1 = Image.fromarray((explain_img*255).astype(np.uint8))\n",
    "    im1.save(savename_img)\n",
    "    plt.imsave(savename_heatmap, heatmap)\n",
    "    \n",
    "    return savename_img, savename_heatmap"
   ]
  },
  {
   "cell_type": "code",
   "execution_count": 3,
   "id": "98493419",
   "metadata": {},
   "outputs": [
    {
     "ename": "NameError",
     "evalue": "name 'tf' is not defined",
     "output_type": "error",
     "traceback": [
      "\u001b[1;31m---------------------------------------------------------------------------\u001b[0m",
      "\u001b[1;31mNameError\u001b[0m                                 Traceback (most recent call last)",
      "Cell \u001b[1;32mIn[3], line 5\u001b[0m\n\u001b[0;32m      2\u001b[0m label \u001b[38;5;241m=\u001b[39m \u001b[38;5;241m3\u001b[39m\n\u001b[0;32m      3\u001b[0m positive \u001b[38;5;241m=\u001b[39m \u001b[38;5;28;01mFalse\u001b[39;00m\n\u001b[1;32m----> 5\u001b[0m model \u001b[38;5;241m=\u001b[39m \u001b[43mtf\u001b[49m\u001b[38;5;241m.\u001b[39mkeras\u001b[38;5;241m.\u001b[39mmodels\u001b[38;5;241m.\u001b[39mload_model(\u001b[38;5;124m\"\u001b[39m\u001b[38;5;124m../model/face_model\u001b[39m\u001b[38;5;124m\"\u001b[39m)\n\u001b[0;32m      6\u001b[0m img_path, heatmap_path \u001b[38;5;241m=\u001b[39m get_LIME_explanation(img, label, model,positive)\n",
      "\u001b[1;31mNameError\u001b[0m: name 'tf' is not defined"
     ]
    }
   ],
   "source": [
    "img = \"C:/Users/KIIT/anaconda3/resize/image_resized.jpg\"\n",
    "label = 3\n",
    "positive = False\n",
    "\n",
    "model = tf.keras.models.load_model(\"../model/face_model\")\n",
    "img_path, heatmap_path = get_LIME_explanation(img, label, model,positive)"
   ]
  },
  {
   "cell_type": "code",
   "execution_count": null,
   "id": "981d0444",
   "metadata": {},
   "outputs": [],
   "source": []
  }
 ],
 "metadata": {
  "kernelspec": {
   "display_name": "Python 3.6 (healthenv)",
   "language": "python",
   "name": "healthenv"
  },
  "language_info": {
   "codemirror_mode": {
    "name": "ipython",
    "version": 3
   },
   "file_extension": ".py",
   "mimetype": "text/x-python",
   "name": "python",
   "nbconvert_exporter": "python",
   "pygments_lexer": "ipython3",
   "version": "3.9.16"
  }
 },
 "nbformat": 4,
 "nbformat_minor": 5
}
